{
 "cells": [
  {
   "cell_type": "markdown",
   "metadata": {
    "id": "dTdJBcGFHOQs"
   },
   "source": [
    "## Build Model"
   ]
  },
  {
   "cell_type": "markdown",
   "metadata": {
    "id": "Gu5s_5PuHr6b"
   },
   "source": [
    "Libraries"
   ]
  },
  {
   "cell_type": "code",
   "execution_count": 1,
   "metadata": {
    "id": "NGB3sK6hHRqg"
   },
   "outputs": [],
   "source": [
    "import numpy as np\n",
    "import pandas as pd\n",
    "import sklearn\n",
    "import joblib\n",
    "from sklearn.model_selection import train_test_split\n",
    "from sklearn.preprocessing import StandardScaler, OrdinalEncoder\n",
    "from sklearn.metrics import mean_squared_log_error\n",
    "from sklearn.metrics import make_scorer\n",
    "from sklearn.ensemble import HistGradientBoostingClassifier, HistGradientBoostingRegressor\n",
    "\n"
   ]
  },
  {
   "cell_type": "markdown",
   "metadata": {
    "id": "uWu5twQEHu4m"
   },
   "source": [
    "Global Variables"
   ]
  },
  {
   "cell_type": "code",
   "execution_count": 2,
   "metadata": {
    "id": "TNWTnH-lHzUx"
   },
   "outputs": [],
   "source": [
    "#path variables\n",
    "path_to_file = '../data/house-prices-advanced-regression-techniques/train.csv' \n",
    "model_store = '../models/model.joblib'    \n",
    "model_encoder_1 = '../models/encoder.joblib'    \n",
    "model_scaler_1 = '../models/scaler.joblib'    \n",
    "\n",
    "target = 'SalePrice'\n",
    "feature_list = ['Id', 'LotArea', 'YearBuilt', 'BsmtFinSF1', 'BedroomAbvGr',\n",
    "                 'KitchenAbvGr', 'GarageArea',\n",
    "                 '1stFlrSF', 'MSZoning', 'Heating']\n",
    "\n",
    "# identifying and splitting features into continuous and categorical\n",
    "numeric_features = ['Id', 'LotArea', 'YearBuilt',\n",
    "                 'BsmtFinSF1', 'BedroomAbvGr',\n",
    "                    'KitchenAbvGr', 'GarageArea','1stFlrSF']\n",
    "\n",
    "categorical_features = ['MSZoning', 'Heating']\n",
    "\n",
    "# Read the CSV file into a DataFrame\n",
    "processed_df = pd.read_csv(path_to_file)\n",
    "\n",
    "# Save the DataFrame to a parquet file\n",
    "processed_df.to_parquet(r'../data/house-prices-advanced-regression-techniques/data_processed.parquet', index=False)\n"
   ]
  },
  {
   "cell_type": "markdown",
   "metadata": {},
   "source": [
    "Processing functions"
   ]
  },
  {
   "cell_type": "code",
   "execution_count": 3,
   "metadata": {
    "id": "tYI1CIfGa7wb"
   },
   "outputs": [],
   "source": [
    "#This function sieves the dataset for only useful features and target\n",
    "def sieve_data(df):\n",
    "  sieved_data = df[feature_list].join(df[target])\n",
    "  return sieved_data\n",
    "\n",
    "\n",
    "\n",
    "def drop_missing_rows(df):\n",
    "  complete_rows = df.dropna()\n",
    "  return complete_rows\n",
    "\n",
    "\n",
    "\n",
    "def scale_numeric(df):\n",
    "  scaler = StandardScaler()\n",
    "  scaler.fit(df[numeric_features])\n",
    "  scaled_data = scaler.transform(df[numeric_features])\n",
    "  scaled_df = pd.DataFrame(data=scaled_data, columns=numeric_features)\n",
    "  joblib.dump(scaler, open(model_scaler_1, 'wb'))\n",
    "  return scaled_df\n",
    "\n",
    "\n",
    "\n",
    "\n",
    "def encode_categorical(df):\n",
    "  encoder = OrdinalEncoder()\n",
    "  encoder.fit(df[categorical_features])\n",
    "  encoded_data = encoder.transform(df[categorical_features])\n",
    "  encoded_df = pd.DataFrame(data=encoded_data, columns=categorical_features)\n",
    "  joblib.dump(encoder, open(model_encoder_1, 'wb'))\n",
    "  return encoded_df\n",
    "\n",
    "\n",
    "\n",
    "def hold_on_target(df):\n",
    "  held_target = df[target]\n",
    "  held_df = pd.DataFrame(held_target)\n",
    "  return held_df\n",
    "\n",
    "\n",
    "\n",
    "def comb_scal_enco(df1, df2, df3):\n",
    "  merge_coders = df1.join(df2).join(df3)\n",
    "  return merge_coders\n",
    "\n",
    "\n",
    "\n",
    "\n",
    "def preprocessing_step(df):\n",
    "  #sieving\n",
    "  output_sieve = sieve_data(df)\n",
    "  #drop nan\n",
    "  output_drop = drop_missing_rows(output_sieve)\n",
    "  #scaling\n",
    "  output_scale = scale_numeric(output_drop)\n",
    "  #encode cat\n",
    "  output_encode = encode_categorical(output_drop)\n",
    "  #holding taget in place\n",
    "  output_hold = hold_on_target(output_drop)\n",
    "  #Feature engineering by combining\n",
    "  preprocessed_output = comb_scal_enco(output_scale, output_encode, output_hold)\n",
    "  return preprocessed_output\n"
   ]
  },
  {
   "cell_type": "markdown",
   "metadata": {
    "id": "T2haK2BbrQ8p"
   },
   "source": [
    "Model Building"
   ]
  },
  {
   "cell_type": "code",
   "execution_count": 4,
   "metadata": {},
   "outputs": [],
   "source": [
    "model_store = '../models/model.joblib'   \n",
    "model_encoder_1 = '../models/encoder.joblib'   \n",
    "model_scaler_1 = '../models/scaler.joblib'   "
   ]
  },
  {
   "cell_type": "code",
   "execution_count": 5,
   "metadata": {
    "id": "55iIDV4_MDF6"
   },
   "outputs": [],
   "source": [
    "def training_data(preprocessed_df):\n",
    "    # Splitting the data\n",
    "    X, y = preprocessed_df.drop([target], axis=1), preprocessed_df[target]\n",
    "    X_train, X_val, y_train, y_val = train_test_split(X, y, test_size=0.2, random_state=42)\n",
    "\n",
    "    # Training the model\n",
    "    hgb_regressor = HistGradientBoostingRegressor()\n",
    "    trained_model = hgb_regressor.fit(X_train, y_train)\n",
    "    #joblib.dump(hgb_regressor, model_store)\n",
    "    return X_val, y_val, trained_model\n",
    "\n",
    "\n",
    "\n",
    "\n",
    "def evaluation_trained_model(X_val, y_val, trained_model):\n",
    "    # Predicting values for evaluation\n",
    "    y_pred = trained_model.predict(X_val)\n",
    "\n",
    "    # Evaluation metrics score\n",
    "    rmsle = np.sqrt(mean_squared_log_error(y_val, y_pred))\n",
    "\n",
    "    return {'RMSLE': rmsle}\n",
    "\n",
    "\n",
    "\n",
    "\n",
    "def build_model(data: pd.DataFrame) -> dict[str, str]:\n",
    "    # Preprocessing\n",
    "    preprocessed_df = preprocessing_step(data)\n",
    "\n",
    "    # Training\n",
    "    X_val, y_val, trained_model = training_data(preprocessed_df)\n",
    "\n",
    "    # Evaluation and result\n",
    "    performance = evaluation_trained_model(X_val, y_val, trained_model)\n",
    "\n",
    "    #save joblib\n",
    "    joblib.dump(trained_model,open(model_store, 'wb'))\n",
    "\n",
    "    return performance\n",
    "\n",
    "\n"
   ]
  },
  {
   "cell_type": "code",
   "execution_count": 6,
   "metadata": {
    "colab": {
     "base_uri": "https://localhost:8080/"
    },
    "id": "nzcBl85olgM0",
    "outputId": "48456405-c154-408f-da95-7c01c1e3f92d"
   },
   "outputs": [
    {
     "data": {
      "text/plain": [
       "{'RMSLE': 0.20361223177145288}"
      ]
     },
     "execution_count": 6,
     "metadata": {},
     "output_type": "execute_result"
    }
   ],
   "source": [
    "# Call the build_model function with numeric and categorical features\n",
    "result = build_model(processed_df)\n",
    "result"
   ]
  },
  {
   "cell_type": "markdown",
   "metadata": {
    "id": "HXWadnLivmmN"
   },
   "source": [
    "## Inference"
   ]
  },
  {
   "cell_type": "code",
   "execution_count": 7,
   "metadata": {
    "id": "iJ-H_Sab7pEV"
   },
   "outputs": [],
   "source": [
    "test_raw = pd.read_csv('../data/house-prices-advanced-regression-techniques/test.csv')\n",
    "test = test_raw.copy()\n",
    "\n",
    "test = test[['Id', 'LotArea', 'YearBuilt', 'BsmtFinSF1', 'BedroomAbvGr',\n",
    "                 'KitchenAbvGr', 'GarageArea',\n",
    "                 '1stFlrSF', 'MSZoning', 'Heating']]\n",
    "\n",
    "\n"
   ]
  },
  {
   "cell_type": "code",
   "execution_count": 8,
   "metadata": {
    "id": "XzJ0fi6u81CJ"
   },
   "outputs": [],
   "source": [
    "numeric_features = ['Id', 'LotArea', 'YearBuilt',\n",
    "                 'BsmtFinSF1', 'BedroomAbvGr',\n",
    "                    'KitchenAbvGr', 'GarageArea','1stFlrSF']\n",
    "\n",
    "categorical_features = ['MSZoning', 'Heating']"
   ]
  },
  {
   "cell_type": "code",
   "execution_count": 9,
   "metadata": {
    "id": "9RvfAmmFvqql"
   },
   "outputs": [],
   "source": [
    "#This function sieves the dataset for only useful features and target\n",
    "def sieve_data(df):\n",
    "  sieved_data = df[feature_list]\n",
    "  return sieved_data\n",
    "\n",
    "\n",
    "\n",
    "def drop_missing_rows(df):\n",
    "  complete_rows = df.dropna()\n",
    "  return complete_rows\n",
    "\n",
    "\n",
    "\n",
    "def scale_numeric(df):\n",
    "  scaler = joblib.load(model_scaler_1)\n",
    "  scaler.fit(df[numeric_features])\n",
    "  scaled_data = scaler.transform(df[numeric_features])\n",
    "  scaled_df = pd.DataFrame(data=scaled_data, columns=numeric_features)\n",
    "  return scaled_df\n",
    "\n",
    "\n",
    "\n",
    "def encode_categorical(df):\n",
    "  encoder = joblib.load(model_encoder_1)\n",
    "  encoder.fit(df[categorical_features])\n",
    "  encoded_data = encoder.transform(df[categorical_features])\n",
    "  encoded_df = pd.DataFrame(data=encoded_data, columns=categorical_features)\n",
    "  return encoded_df\n",
    "\n",
    "\n",
    "\n",
    "def comb_scal_enco(df1, df2):\n",
    "  merge_coders = df1.join(df2)\n",
    "  return merge_coders\n",
    "\n",
    "\n",
    "\n",
    "def preprocessing_step(df):\n",
    "  #sieving\n",
    "  output_sieve = sieve_data(df)\n",
    "  #drop nan\n",
    "  output_drop = drop_missing_rows(output_sieve)\n",
    "  #scaling\n",
    "  output_scale = scale_numeric(output_drop)\n",
    "  #encode cat\n",
    "  output_encode = encode_categorical(output_drop)\n",
    "  #Feature engineering by combining\n",
    "  preprocessed_output = comb_scal_enco(output_scale, output_encode)\n",
    "  return preprocessed_output\n",
    "\n",
    "\n",
    "\n",
    "def make_predictions(input_data: pd.DataFrame) -> np.ndarray:\n",
    "  #preprocessing dataframe\n",
    "  preprocessed_data = preprocessing_step(input_data)\n",
    "\n",
    "\n",
    "  # #Loading the model\n",
    "  model = joblib.load(model_store)\n",
    "\n",
    "  prediction = model.predict(preprocessed_data)\n",
    "\n",
    "  return prediction\n",
    "\n"
   ]
  },
  {
   "cell_type": "code",
   "execution_count": 10,
   "metadata": {
    "colab": {
     "base_uri": "https://localhost:8080/"
    },
    "id": "N-aYVCBO71j-",
    "outputId": "fa7d65d5-3015-49de-d923-8a61513307f5"
   },
   "outputs": [
    {
     "data": {
      "text/plain": [
       "array([144918.89683241, 188388.12939049, 212743.11347236, ...,\n",
       "       229467.84496425, 150117.15363956, 231869.11236182])"
      ]
     },
     "execution_count": 10,
     "metadata": {},
     "output_type": "execute_result"
    }
   ],
   "source": [
    "result11 = make_predictions(test)\n",
    "result11"
   ]
  },
  {
   "cell_type": "code",
   "execution_count": null,
   "metadata": {},
   "outputs": [],
   "source": []
  }
 ],
 "metadata": {
  "colab": {
   "provenance": []
  },
  "kernelspec": {
   "display_name": "Python 3 (ipykernel)",
   "language": "python",
   "name": "python3"
  },
  "language_info": {
   "codemirror_mode": {
    "name": "ipython",
    "version": 3
   },
   "file_extension": ".py",
   "mimetype": "text/x-python",
   "name": "python",
   "nbconvert_exporter": "python",
   "pygments_lexer": "ipython3",
   "version": "3.11.4"
  }
 },
 "nbformat": 4,
 "nbformat_minor": 1
}
