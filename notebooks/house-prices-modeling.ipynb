{
 "cells": [
  {
   "cell_type": "code",
   "execution_count": null,
   "id": "8315f0bf-cd74-40f0-bf9f-0b04ba67b202",
   "metadata": {},
   "outputs": [],
   "source": [
    "import pandas as pd\n",
    "from sklearn.model_selection\n",
    "import train_test_split\n",
    "# Load data\n",
    "df_train = pd.read_csv('C:\\Users\\johno\\dsp-johnfredrick-owotorufa\\data\\train.csv')\n",
    "df_test = pd.read_csv('C:\\Users\\johno\\dsp-johnfredrick-owotorufa\\data\\test.csv')"
   ]
  }
 ],
 "metadata": {
  "kernelspec": {
   "display_name": "Python 3 (ipykernel)",
   "language": "python",
   "name": "python3"
  },
  "language_info": {
   "codemirror_mode": {
    "name": "ipython",
    "version": 3
   },
   "file_extension": ".py",
   "mimetype": "text/x-python",
   "name": "python",
   "nbconvert_exporter": "python",
   "pygments_lexer": "ipython3",
   "version": "3.9.18"
  }
 },
 "nbformat": 4,
 "nbformat_minor": 5
}
